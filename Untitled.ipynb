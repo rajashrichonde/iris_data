{
 "cells": [
  {
   "cell_type": "markdown",
   "id": "ab862fc6",
   "metadata": {},
   "source": [
    "# IrIS dataset"
   ]
  }
 ],
 "metadata": {
  "kernelspec": {
   "display_name": "Python 3.9.12 ('base')",
   "language": "python",
   "name": "python3"
  },
  "language_info": {
   "codemirror_mode": {
    "name": "ipython",
    "version": 3
   },
   "file_extension": ".py",
   "mimetype": "text/x-python",
   "name": "python",
   "nbconvert_exporter": "python",
   "pygments_lexer": "ipython3",
   "version": "3.9.12"
  },
  "vscode": {
   "interpreter": {
    "hash": "bab70a43b583800f134fa614bd3529961dda83eedce6791bfd8b3b58e6200415"
   }
  }
 },
 "nbformat": 4,
 "nbformat_minor": 5
}
