{
 "cells": [
  {
   "cell_type": "markdown",
   "id": "e11261b0",
   "metadata": {},
   "source": [
    "# IrIS dataset"
   ]
  },
  {
   "cell_type": "code",
   "execution_count": 1,
   "id": "d0a9e5c5",
   "metadata": {},
   "outputs": [],
   "source": [
    "import pandas as pd\n",
    "import numpy as np\n",
    "import matplotlib.pyplot as plt\n",
    "import seaborn as sns\n",
    "\n",
    "from sklearn.datasets import load_iris\n",
    "from sklearn.linear_model import LogisticRegression\n",
    "from sklearn.model_selection import train_test_split\n",
    "from sklearn.metrics import confusion_matrix,plot_confusion_matrix,classification_report,accuracy_score\n",
    "\n",
    "import pickle\n",
    "import json"
   ]
  },
  {
   "cell_type": "code",
   "execution_count": 2,
   "id": "c1545d62",
   "metadata": {},
   "outputs": [
    {
     "data": {
      "text/plain": [
       "['DESCR',\n",
       " 'data',\n",
       " 'data_module',\n",
       " 'feature_names',\n",
       " 'filename',\n",
       " 'frame',\n",
       " 'target',\n",
       " 'target_names']"
      ]
     },
     "execution_count": 2,
     "metadata": {},
     "output_type": "execute_result"
    }
   ],
   "source": [
    "df=load_iris()\n",
    "dir(df)"
   ]
  },
  {
   "cell_type": "code",
   "execution_count": 3,
   "id": "38cf3401",
   "metadata": {},
   "outputs": [],
   "source": [
    "df1=pd.DataFrame(df.data ,columns=df.feature_names)\n",
    "df1[\"species\"]=df.target"
   ]
  },
  {
   "cell_type": "code",
   "execution_count": 4,
   "id": "a69b1440",
   "metadata": {},
   "outputs": [
    {
     "data": {
      "text/plain": [
       "array([0, 0, 0, 0, 0, 0, 0, 0, 0, 0, 0, 0, 0, 0, 0, 0, 0, 0, 0, 0, 0, 0,\n",
       "       0, 0, 0, 0, 0, 0, 0, 0, 0, 0, 0, 0, 0, 0, 0, 0, 0, 0, 0, 0, 0, 0,\n",
       "       0, 0, 0, 0, 0, 0, 1, 1, 1, 1, 1, 1, 1, 1, 1, 1, 1, 1, 1, 1, 1, 1,\n",
       "       1, 1, 1, 1, 1, 1, 1, 1, 1, 1, 1, 1, 1, 1, 1, 1, 1, 1, 1, 1, 1, 1,\n",
       "       1, 1, 1, 1, 1, 1, 1, 1, 1, 1, 1, 1, 2, 2, 2, 2, 2, 2, 2, 2, 2, 2,\n",
       "       2, 2, 2, 2, 2, 2, 2, 2, 2, 2, 2, 2, 2, 2, 2, 2, 2, 2, 2, 2, 2, 2,\n",
       "       2, 2, 2, 2, 2, 2, 2, 2, 2, 2, 2, 2, 2, 2, 2, 2, 2, 2])"
      ]
     },
     "execution_count": 4,
     "metadata": {},
     "output_type": "execute_result"
    }
   ],
   "source": [
    "df.target"
   ]
  },
  {
   "cell_type": "code",
   "execution_count": 5,
   "id": "6d7f4a40",
   "metadata": {},
   "outputs": [
    {
     "data": {
      "text/plain": [
       "array(['setosa', 'versicolor', 'virginica'], dtype='<U10')"
      ]
     },
     "execution_count": 5,
     "metadata": {},
     "output_type": "execute_result"
    }
   ],
   "source": [
    "df.target_names"
   ]
  },
  {
   "cell_type": "code",
   "execution_count": 6,
   "id": "08e287ef",
   "metadata": {},
   "outputs": [
    {
     "data": {
      "text/html": [
       "<div>\n",
       "<style scoped>\n",
       "    .dataframe tbody tr th:only-of-type {\n",
       "        vertical-align: middle;\n",
       "    }\n",
       "\n",
       "    .dataframe tbody tr th {\n",
       "        vertical-align: top;\n",
       "    }\n",
       "\n",
       "    .dataframe thead th {\n",
       "        text-align: right;\n",
       "    }\n",
       "</style>\n",
       "<table border=\"1\" class=\"dataframe\">\n",
       "  <thead>\n",
       "    <tr style=\"text-align: right;\">\n",
       "      <th></th>\n",
       "      <th>sepal length (cm)</th>\n",
       "      <th>sepal width (cm)</th>\n",
       "      <th>petal length (cm)</th>\n",
       "      <th>petal width (cm)</th>\n",
       "      <th>species</th>\n",
       "    </tr>\n",
       "  </thead>\n",
       "  <tbody>\n",
       "    <tr>\n",
       "      <th>0</th>\n",
       "      <td>5.1</td>\n",
       "      <td>3.5</td>\n",
       "      <td>1.4</td>\n",
       "      <td>0.2</td>\n",
       "      <td>0</td>\n",
       "    </tr>\n",
       "    <tr>\n",
       "      <th>1</th>\n",
       "      <td>4.9</td>\n",
       "      <td>3.0</td>\n",
       "      <td>1.4</td>\n",
       "      <td>0.2</td>\n",
       "      <td>0</td>\n",
       "    </tr>\n",
       "    <tr>\n",
       "      <th>2</th>\n",
       "      <td>4.7</td>\n",
       "      <td>3.2</td>\n",
       "      <td>1.3</td>\n",
       "      <td>0.2</td>\n",
       "      <td>0</td>\n",
       "    </tr>\n",
       "    <tr>\n",
       "      <th>3</th>\n",
       "      <td>4.6</td>\n",
       "      <td>3.1</td>\n",
       "      <td>1.5</td>\n",
       "      <td>0.2</td>\n",
       "      <td>0</td>\n",
       "    </tr>\n",
       "    <tr>\n",
       "      <th>4</th>\n",
       "      <td>5.0</td>\n",
       "      <td>3.6</td>\n",
       "      <td>1.4</td>\n",
       "      <td>0.2</td>\n",
       "      <td>0</td>\n",
       "    </tr>\n",
       "  </tbody>\n",
       "</table>\n",
       "</div>"
      ],
      "text/plain": [
       "   sepal length (cm)  sepal width (cm)  petal length (cm)  petal width (cm)  \\\n",
       "0                5.1               3.5                1.4               0.2   \n",
       "1                4.9               3.0                1.4               0.2   \n",
       "2                4.7               3.2                1.3               0.2   \n",
       "3                4.6               3.1                1.5               0.2   \n",
       "4                5.0               3.6                1.4               0.2   \n",
       "\n",
       "   species  \n",
       "0        0  \n",
       "1        0  \n",
       "2        0  \n",
       "3        0  \n",
       "4        0  "
      ]
     },
     "execution_count": 6,
     "metadata": {},
     "output_type": "execute_result"
    }
   ],
   "source": [
    "df1.head()"
   ]
  },
  {
   "cell_type": "code",
   "execution_count": 7,
   "id": "c6d16b79",
   "metadata": {},
   "outputs": [],
   "source": [
    "df1[\"species\"].replace({0:\"setosa\",1:\"versicolor\",2:\"virginica\"},inplace=True)"
   ]
  },
  {
   "cell_type": "code",
   "execution_count": 8,
   "id": "067e5b4a",
   "metadata": {},
   "outputs": [
    {
     "data": {
      "text/plain": [
       "setosa        50\n",
       "versicolor    50\n",
       "virginica     50\n",
       "Name: species, dtype: int64"
      ]
     },
     "execution_count": 8,
     "metadata": {},
     "output_type": "execute_result"
    }
   ],
   "source": [
    "df1[\"species\"].value_counts()"
   ]
  },
  {
   "cell_type": "code",
   "execution_count": 9,
   "id": "a5b21e1c",
   "metadata": {},
   "outputs": [
    {
     "data": {
      "text/plain": [
       "(150, 5)"
      ]
     },
     "execution_count": 9,
     "metadata": {},
     "output_type": "execute_result"
    }
   ],
   "source": [
    "df1.shape"
   ]
  },
  {
   "cell_type": "code",
   "execution_count": 10,
   "id": "ecdbaf1f",
   "metadata": {},
   "outputs": [
    {
     "name": "stdout",
     "output_type": "stream",
     "text": [
      "<class 'pandas.core.frame.DataFrame'>\n",
      "RangeIndex: 150 entries, 0 to 149\n",
      "Data columns (total 5 columns):\n",
      " #   Column             Non-Null Count  Dtype  \n",
      "---  ------             --------------  -----  \n",
      " 0   sepal length (cm)  150 non-null    float64\n",
      " 1   sepal width (cm)   150 non-null    float64\n",
      " 2   petal length (cm)  150 non-null    float64\n",
      " 3   petal width (cm)   150 non-null    float64\n",
      " 4   species            150 non-null    object \n",
      "dtypes: float64(4), object(1)\n",
      "memory usage: 6.0+ KB\n"
     ]
    }
   ],
   "source": [
    "df1.info()"
   ]
  },
  {
   "cell_type": "code",
   "execution_count": 11,
   "id": "381538a1",
   "metadata": {},
   "outputs": [
    {
     "data": {
      "text/plain": [
       "sepal length (cm)    0\n",
       "sepal width (cm)     0\n",
       "petal length (cm)    0\n",
       "petal width (cm)     0\n",
       "species              0\n",
       "dtype: int64"
      ]
     },
     "execution_count": 11,
     "metadata": {},
     "output_type": "execute_result"
    }
   ],
   "source": [
    "df1.isnull().sum()"
   ]
  },
  {
   "cell_type": "code",
   "execution_count": 12,
   "id": "223877cc",
   "metadata": {},
   "outputs": [
    {
     "data": {
      "text/html": [
       "<div>\n",
       "<style scoped>\n",
       "    .dataframe tbody tr th:only-of-type {\n",
       "        vertical-align: middle;\n",
       "    }\n",
       "\n",
       "    .dataframe tbody tr th {\n",
       "        vertical-align: top;\n",
       "    }\n",
       "\n",
       "    .dataframe thead th {\n",
       "        text-align: right;\n",
       "    }\n",
       "</style>\n",
       "<table border=\"1\" class=\"dataframe\">\n",
       "  <thead>\n",
       "    <tr style=\"text-align: right;\">\n",
       "      <th></th>\n",
       "      <th>sepal length (cm)</th>\n",
       "      <th>sepal width (cm)</th>\n",
       "      <th>petal length (cm)</th>\n",
       "      <th>petal width (cm)</th>\n",
       "    </tr>\n",
       "  </thead>\n",
       "  <tbody>\n",
       "    <tr>\n",
       "      <th>0</th>\n",
       "      <td>5.1</td>\n",
       "      <td>3.5</td>\n",
       "      <td>1.4</td>\n",
       "      <td>0.2</td>\n",
       "    </tr>\n",
       "    <tr>\n",
       "      <th>1</th>\n",
       "      <td>4.9</td>\n",
       "      <td>3.0</td>\n",
       "      <td>1.4</td>\n",
       "      <td>0.2</td>\n",
       "    </tr>\n",
       "    <tr>\n",
       "      <th>2</th>\n",
       "      <td>4.7</td>\n",
       "      <td>3.2</td>\n",
       "      <td>1.3</td>\n",
       "      <td>0.2</td>\n",
       "    </tr>\n",
       "    <tr>\n",
       "      <th>3</th>\n",
       "      <td>4.6</td>\n",
       "      <td>3.1</td>\n",
       "      <td>1.5</td>\n",
       "      <td>0.2</td>\n",
       "    </tr>\n",
       "    <tr>\n",
       "      <th>4</th>\n",
       "      <td>5.0</td>\n",
       "      <td>3.6</td>\n",
       "      <td>1.4</td>\n",
       "      <td>0.2</td>\n",
       "    </tr>\n",
       "  </tbody>\n",
       "</table>\n",
       "</div>"
      ],
      "text/plain": [
       "   sepal length (cm)  sepal width (cm)  petal length (cm)  petal width (cm)\n",
       "0                5.1               3.5                1.4               0.2\n",
       "1                4.9               3.0                1.4               0.2\n",
       "2                4.7               3.2                1.3               0.2\n",
       "3                4.6               3.1                1.5               0.2\n",
       "4                5.0               3.6                1.4               0.2"
      ]
     },
     "execution_count": 12,
     "metadata": {},
     "output_type": "execute_result"
    }
   ],
   "source": [
    "x=df1.drop(\"species\",axis=1)\n",
    "x.head()"
   ]
  },
  {
   "cell_type": "code",
   "execution_count": 13,
   "id": "f56829a2",
   "metadata": {},
   "outputs": [
    {
     "data": {
      "text/plain": [
       "0    setosa\n",
       "1    setosa\n",
       "2    setosa\n",
       "3    setosa\n",
       "4    setosa\n",
       "Name: species, dtype: object"
      ]
     },
     "execution_count": 13,
     "metadata": {},
     "output_type": "execute_result"
    }
   ],
   "source": [
    "y=df1[\"species\"]\n",
    "y.head()"
   ]
  },
  {
   "cell_type": "markdown",
   "id": "dc4080de",
   "metadata": {},
   "source": [
    "# train_test_split"
   ]
  },
  {
   "cell_type": "code",
   "execution_count": 14,
   "id": "03f932ed",
   "metadata": {},
   "outputs": [],
   "source": [
    "x_train,x_test,y_train,y_test=train_test_split(x,y,test_size=0.20 ,random_state=45)"
   ]
  },
  {
   "cell_type": "code",
   "execution_count": 15,
   "id": "2ad681ff",
   "metadata": {},
   "outputs": [
    {
     "data": {
      "text/plain": [
       "(     sepal length (cm)  sepal width (cm)  petal length (cm)  petal width (cm)\n",
       " 76                 6.8               2.8                4.8               1.4\n",
       " 96                 5.7               2.9                4.2               1.3\n",
       " 119                6.0               2.2                5.0               1.5\n",
       " 101                5.8               2.7                5.1               1.9\n",
       " 25                 5.0               3.0                1.6               0.2\n",
       " ..                 ...               ...                ...               ...\n",
       " 68                 6.2               2.2                4.5               1.5\n",
       " 95                 5.7               3.0                4.2               1.2\n",
       " 32                 5.2               4.1                1.5               0.1\n",
       " 124                6.7               3.3                5.7               2.1\n",
       " 131                7.9               3.8                6.4               2.0\n",
       " \n",
       " [120 rows x 4 columns],\n",
       " 76     versicolor\n",
       " 96     versicolor\n",
       " 119     virginica\n",
       " 101     virginica\n",
       " 25         setosa\n",
       "           ...    \n",
       " 68     versicolor\n",
       " 95     versicolor\n",
       " 32         setosa\n",
       " 124     virginica\n",
       " 131     virginica\n",
       " Name: species, Length: 120, dtype: object)"
      ]
     },
     "execution_count": 15,
     "metadata": {},
     "output_type": "execute_result"
    }
   ],
   "source": [
    "x_train,y_train"
   ]
  },
  {
   "cell_type": "code",
   "execution_count": 16,
   "id": "60d23f08",
   "metadata": {
    "scrolled": true
   },
   "outputs": [
    {
     "data": {
      "text/plain": [
       "(     sepal length (cm)  sepal width (cm)  petal length (cm)  petal width (cm)\n",
       " 0                  5.1               3.5                1.4               0.2\n",
       " 43                 5.0               3.5                1.6               0.6\n",
       " 129                7.2               3.0                5.8               1.6\n",
       " 3                  4.6               3.1                1.5               0.2\n",
       " 34                 4.9               3.1                1.5               0.2\n",
       " 44                 5.1               3.8                1.9               0.4\n",
       " 38                 4.4               3.0                1.3               0.2\n",
       " 105                7.6               3.0                6.6               2.1\n",
       " 123                6.3               2.7                4.9               1.8\n",
       " 140                6.7               3.1                5.6               2.4\n",
       " 28                 5.2               3.4                1.4               0.2\n",
       " 125                7.2               3.2                6.0               1.8\n",
       " 113                5.7               2.5                5.0               2.0\n",
       " 103                6.3               2.9                5.6               1.8\n",
       " 133                6.3               2.8                5.1               1.5\n",
       " 35                 5.0               3.2                1.2               0.2\n",
       " 145                6.7               3.0                5.2               2.3\n",
       " 142                5.8               2.7                5.1               1.9\n",
       " 40                 5.0               3.5                1.3               0.3\n",
       " 87                 6.3               2.3                4.4               1.3\n",
       " 84                 5.4               3.0                4.5               1.5\n",
       " 85                 6.0               3.4                4.5               1.6\n",
       " 115                6.4               3.2                5.3               2.3\n",
       " 51                 6.4               3.2                4.5               1.5\n",
       " 4                  5.0               3.6                1.4               0.2\n",
       " 112                6.8               3.0                5.5               2.1\n",
       " 92                 5.8               2.6                4.0               1.2\n",
       " 64                 5.6               2.9                3.6               1.3\n",
       " 10                 5.4               3.7                1.5               0.2\n",
       " 91                 6.1               3.0                4.6               1.4,\n",
       " 0          setosa\n",
       " 43         setosa\n",
       " 129     virginica\n",
       " 3          setosa\n",
       " 34         setosa\n",
       " 44         setosa\n",
       " 38         setosa\n",
       " 105     virginica\n",
       " 123     virginica\n",
       " 140     virginica\n",
       " 28         setosa\n",
       " 125     virginica\n",
       " 113     virginica\n",
       " 103     virginica\n",
       " 133     virginica\n",
       " 35         setosa\n",
       " 145     virginica\n",
       " 142     virginica\n",
       " 40         setosa\n",
       " 87     versicolor\n",
       " 84     versicolor\n",
       " 85     versicolor\n",
       " 115     virginica\n",
       " 51     versicolor\n",
       " 4          setosa\n",
       " 112     virginica\n",
       " 92     versicolor\n",
       " 64     versicolor\n",
       " 10         setosa\n",
       " 91     versicolor\n",
       " Name: species, dtype: object)"
      ]
     },
     "execution_count": 16,
     "metadata": {},
     "output_type": "execute_result"
    }
   ],
   "source": [
    "x_test,y_test"
   ]
  },
  {
   "cell_type": "markdown",
   "id": "b383c8a9",
   "metadata": {},
   "source": [
    "# train the model"
   ]
  },
  {
   "cell_type": "code",
   "execution_count": 17,
   "id": "bce8c8d0",
   "metadata": {
    "scrolled": true
   },
   "outputs": [
    {
     "data": {
      "text/plain": [
       "LogisticRegression(multi_class='ovr', solver='liblinear')"
      ]
     },
     "execution_count": 17,
     "metadata": {},
     "output_type": "execute_result"
    }
   ],
   "source": [
    "lr_model=LogisticRegression(multi_class='ovr',solver='liblinear')\n",
    "lr_model.fit(x_train ,y_train)"
   ]
  },
  {
   "cell_type": "code",
   "execution_count": 18,
   "id": "f20047b3",
   "metadata": {},
   "outputs": [
    {
     "name": "stdout",
     "output_type": "stream",
     "text": [
      "y_pred ['setosa' 'setosa' 'versicolor' 'setosa' 'setosa' 'setosa' 'setosa'\n",
      " 'virginica' 'virginica' 'virginica' 'setosa' 'virginica' 'virginica'\n",
      " 'virginica' 'versicolor' 'setosa' 'virginica' 'virginica' 'setosa'\n",
      " 'versicolor' 'virginica' 'virginica' 'virginica' 'versicolor' 'setosa'\n",
      " 'virginica' 'versicolor' 'versicolor' 'setosa' 'versicolor']\n"
     ]
    },
    {
     "data": {
      "text/plain": [
       "array(['virginica', 'virginica', 'virginica', 'versicolor', 'setosa'],\n",
       "      dtype=object)"
      ]
     },
     "execution_count": 18,
     "metadata": {},
     "output_type": "execute_result"
    }
   ],
   "source": [
    "# evaluvation\n",
    "y_pred=lr_model.predict(x_test)\n",
    "print(\"y_pred\",y_pred)\n",
    "y_pred[20:25]"
   ]
  },
  {
   "cell_type": "code",
   "execution_count": 19,
   "id": "9006651c",
   "metadata": {},
   "outputs": [
    {
     "data": {
      "text/plain": [
       "84     versicolor\n",
       "85     versicolor\n",
       "115     virginica\n",
       "51     versicolor\n",
       "4          setosa\n",
       "Name: species, dtype: object"
      ]
     },
     "execution_count": 19,
     "metadata": {},
     "output_type": "execute_result"
    }
   ],
   "source": [
    "y_test[20:25]"
   ]
  },
  {
   "cell_type": "code",
   "execution_count": 20,
   "id": "caf7ed67",
   "metadata": {},
   "outputs": [
    {
     "name": "stdout",
     "output_type": "stream",
     "text": [
      "Confusion_matrix==>>:\n",
      " [[11  0  0]\n",
      " [ 0  5  2]\n",
      " [ 0  2 10]]\n",
      "classification report==>>               precision    recall  f1-score   support\n",
      "\n",
      "      setosa       1.00      1.00      1.00        11\n",
      "  versicolor       0.71      0.71      0.71         7\n",
      "   virginica       0.83      0.83      0.83        12\n",
      "\n",
      "    accuracy                           0.87        30\n",
      "   macro avg       0.85      0.85      0.85        30\n",
      "weighted avg       0.87      0.87      0.87        30\n",
      "\n",
      "accurancy==>> 0.8666666666666667\n"
     ]
    }
   ],
   "source": [
    "#testing accuracy\n",
    "confusion_matrix(y_test ,y_pred)\n",
    "print(\"Confusion_matrix==>>:\\n\",confusion_matrix(y_test ,y_pred))\n",
    "classification_report(y_test,y_pred)\n",
    "print(\"classification report==>>\",classification_report(y_test,y_pred))\n",
    "accuracy_score(y_test,y_pred)\n",
    "print(\"accurancy==>>\",accuracy_score(y_test,y_pred))"
   ]
  },
  {
   "cell_type": "code",
   "execution_count": 21,
   "id": "6ca0a10a",
   "metadata": {},
   "outputs": [
    {
     "data": {
      "text/plain": [
       "array(['versicolor', 'versicolor', 'versicolor', 'virginica', 'setosa'],\n",
       "      dtype=object)"
      ]
     },
     "execution_count": 21,
     "metadata": {},
     "output_type": "execute_result"
    }
   ],
   "source": [
    "# train accuracy\n",
    "\n",
    "y_pred=lr_model.predict(x_train)\n",
    "y_pred[0:5]\n"
   ]
  },
  {
   "cell_type": "code",
   "execution_count": 22,
   "id": "92a44906",
   "metadata": {},
   "outputs": [
    {
     "data": {
      "text/plain": [
       "76     versicolor\n",
       "96     versicolor\n",
       "119     virginica\n",
       "101     virginica\n",
       "25         setosa\n",
       "Name: species, dtype: object"
      ]
     },
     "execution_count": 22,
     "metadata": {},
     "output_type": "execute_result"
    }
   ],
   "source": [
    "y_train[0:5]"
   ]
  },
  {
   "cell_type": "code",
   "execution_count": 23,
   "id": "2017898c",
   "metadata": {},
   "outputs": [],
   "source": [
    "# training accuracy"
   ]
  },
  {
   "cell_type": "code",
   "execution_count": 24,
   "id": "cefb3d18",
   "metadata": {},
   "outputs": [
    {
     "name": "stdout",
     "output_type": "stream",
     "text": [
      "Confusion_matrix==>>:\n",
      " [[39  0  0]\n",
      " [ 0 40  3]\n",
      " [ 0  1 37]]\n",
      "classification report==>>               precision    recall  f1-score   support\n",
      "\n",
      "      setosa       1.00      1.00      1.00        39\n",
      "  versicolor       0.98      0.93      0.95        43\n",
      "   virginica       0.93      0.97      0.95        38\n",
      "\n",
      "    accuracy                           0.97       120\n",
      "   macro avg       0.97      0.97      0.97       120\n",
      "weighted avg       0.97      0.97      0.97       120\n",
      "\n",
      "accurancy==>> 0.9666666666666667\n"
     ]
    }
   ],
   "source": [
    "confusion_matrix(y_train ,y_pred)\n",
    "print(\"Confusion_matrix==>>:\\n\",confusion_matrix(y_train ,y_pred))\n",
    "classification_report(y_train,y_pred)\n",
    "print(\"classification report==>>\",classification_report(y_train,y_pred))\n",
    "accuracy_score(y_train,y_pred)\n",
    "print(\"accurancy==>>\",accuracy_score(y_train,y_pred))"
   ]
  },
  {
   "cell_type": "code",
   "execution_count": 25,
   "id": "cb7f0b92",
   "metadata": {},
   "outputs": [
    {
     "name": "stderr",
     "output_type": "stream",
     "text": [
      "f:\\.anacoda project\\python3.9\\lib\\site-packages\\sklearn\\utils\\deprecation.py:87: FutureWarning: Function plot_confusion_matrix is deprecated; Function `plot_confusion_matrix` is deprecated in 1.0 and will be removed in 1.2. Use one of the class methods: ConfusionMatrixDisplay.from_predictions or ConfusionMatrixDisplay.from_estimator.\n",
      "  warnings.warn(msg, category=FutureWarning)\n"
     ]
    },
    {
     "data": {
      "text/plain": [
       "array([[11,  0,  0],\n",
       "       [ 0,  5,  2],\n",
       "       [ 0,  2, 10]], dtype=int64)"
      ]
     },
     "execution_count": 25,
     "metadata": {},
     "output_type": "execute_result"
    },
    {
     "data": {
      "image/png": "[encoded data removed]",
      "text/plain": [
       "<Figure size 720x432 with 2 Axes>"
      ]
     },
     "metadata": {
      "needs_background": "light"
     },
     "output_type": "display_data"
    }
   ],
   "source": [
    "\n",
    "#Creating matplotlib axes object to assign figuresize and figure title\n",
    "fig, ax = plt.subplots(figsize=(10, 6))\n",
    "ax.set_title('Confusion Matrx')\n",
    "\n",
    "disp =plot_confusion_matrix(lr_model, x_test, y_test, display_labels= df.target_names, ax = ax)\n",
    "disp.confusion_matrix"
   ]
  },
  {
   "cell_type": "code",
   "execution_count": 26,
   "id": "e7e07dbe",
   "metadata": {},
   "outputs": [],
   "source": [
    "import pickle\n",
    "\n",
    "with open(\"Lr_model.pkl\",\"wb\") as f:\n",
    "    pickle.dump(lr_model ,f)"
   ]
  },
  {
   "cell_type": "code",
   "execution_count": 27,
   "id": "b5d34f0f",
   "metadata": {},
   "outputs": [
    {
     "data": {
      "text/plain": [
       "array(['setosa', 'versicolor', 'virginica'], dtype='<U10')"
      ]
     },
     "execution_count": 27,
     "metadata": {},
     "output_type": "execute_result"
    }
   ],
   "source": [
    "df.target_names\n"
   ]
  },
  {
   "cell_type": "code",
   "execution_count": 28,
   "id": "fbe75e3b",
   "metadata": {},
   "outputs": [
    {
     "data": {
      "text/plain": [
       "0"
      ]
     },
     "execution_count": 28,
     "metadata": {},
     "output_type": "execute_result"
    }
   ],
   "source": [
    "target_names={\"setosa\":0,\"versicolor\":1,\"virginica\":2}\n",
    "target_names[\"setosa\"]"
   ]
  },
  {
   "cell_type": "code",
   "execution_count": 29,
   "id": "37cb929a",
   "metadata": {},
   "outputs": [],
   "source": [
    "import json\n",
    "\n",
    "with open (\"target_names.json\",\"w\") as f:\n",
    "    json.dump(\"target_names\",f)"
   ]
  },
  {
   "cell_type": "code",
   "execution_count": 30,
   "id": "6427a0ff",
   "metadata": {},
   "outputs": [
    {
     "data": {
      "text/html": [
       "<div>\n",
       "<style scoped>\n",
       "    .dataframe tbody tr th:only-of-type {\n",
       "        vertical-align: middle;\n",
       "    }\n",
       "\n",
       "    .dataframe tbody tr th {\n",
       "        vertical-align: top;\n",
       "    }\n",
       "\n",
       "    .dataframe thead th {\n",
       "        text-align: right;\n",
       "    }\n",
       "</style>\n",
       "<table border=\"1\" class=\"dataframe\">\n",
       "  <thead>\n",
       "    <tr style=\"text-align: right;\">\n",
       "      <th></th>\n",
       "      <th>sepal length (cm)</th>\n",
       "      <th>sepal width (cm)</th>\n",
       "      <th>petal length (cm)</th>\n",
       "      <th>petal width (cm)</th>\n",
       "      <th>species</th>\n",
       "    </tr>\n",
       "  </thead>\n",
       "  <tbody>\n",
       "    <tr>\n",
       "      <th>0</th>\n",
       "      <td>5.1</td>\n",
       "      <td>3.5</td>\n",
       "      <td>1.4</td>\n",
       "      <td>0.2</td>\n",
       "      <td>setosa</td>\n",
       "    </tr>\n",
       "  </tbody>\n",
       "</table>\n",
       "</div>"
      ],
      "text/plain": [
       "   sepal length (cm)  sepal width (cm)  petal length (cm)  petal width (cm)  \\\n",
       "0                5.1               3.5                1.4               0.2   \n",
       "\n",
       "  species  \n",
       "0  setosa  "
      ]
     },
     "execution_count": 30,
     "metadata": {},
     "output_type": "execute_result"
    }
   ],
   "source": [
    "df1.head(1)"
   ]
  },
  {
   "cell_type": "code",
   "execution_count": 31,
   "id": "9b09a00a",
   "metadata": {},
   "outputs": [
    {
     "data": {
      "text/html": [
       "<div>\n",
       "<style scoped>\n",
       "    .dataframe tbody tr th:only-of-type {\n",
       "        vertical-align: middle;\n",
       "    }\n",
       "\n",
       "    .dataframe tbody tr th {\n",
       "        vertical-align: top;\n",
       "    }\n",
       "\n",
       "    .dataframe thead th {\n",
       "        text-align: right;\n",
       "    }\n",
       "</style>\n",
       "<table border=\"1\" class=\"dataframe\">\n",
       "  <thead>\n",
       "    <tr style=\"text-align: right;\">\n",
       "      <th></th>\n",
       "      <th>0</th>\n",
       "    </tr>\n",
       "  </thead>\n",
       "  <tbody>\n",
       "    <tr>\n",
       "      <th>sepal length (cm)</th>\n",
       "      <td>5.1</td>\n",
       "    </tr>\n",
       "    <tr>\n",
       "      <th>sepal width (cm)</th>\n",
       "      <td>3.5</td>\n",
       "    </tr>\n",
       "    <tr>\n",
       "      <th>petal length (cm)</th>\n",
       "      <td>1.4</td>\n",
       "    </tr>\n",
       "    <tr>\n",
       "      <th>petal width (cm)</th>\n",
       "      <td>0.2</td>\n",
       "    </tr>\n",
       "    <tr>\n",
       "      <th>species</th>\n",
       "      <td>setosa</td>\n",
       "    </tr>\n",
       "  </tbody>\n",
       "</table>\n",
       "</div>"
      ],
      "text/plain": [
       "                        0\n",
       "sepal length (cm)     5.1\n",
       "sepal width (cm)      3.5\n",
       "petal length (cm)     1.4\n",
       "petal width (cm)      0.2\n",
       "species            setosa"
      ]
     },
     "execution_count": 31,
     "metadata": {},
     "output_type": "execute_result"
    }
   ],
   "source": [
    "df1.head(1).T"
   ]
  },
  {
   "cell_type": "code",
   "execution_count": 32,
   "id": "e8a5b1cb",
   "metadata": {},
   "outputs": [],
   "source": [
    "sepal_length = 60\n",
    "sepal_width = 100\n",
    "petal_length = 20\n",
    "petal_width = 300\n"
   ]
  },
  {
   "cell_type": "code",
   "execution_count": 33,
   "id": "36647c6f",
   "metadata": {},
   "outputs": [
    {
     "data": {
      "text/plain": [
       "array([0., 0., 0., 0.])"
      ]
     },
     "execution_count": 33,
     "metadata": {},
     "output_type": "execute_result"
    }
   ],
   "source": [
    "test_array=np.zeros([len(x.columns)])\n",
    "test_array"
   ]
  },
  {
   "cell_type": "code",
   "execution_count": 34,
   "id": "3bc03b76",
   "metadata": {},
   "outputs": [
    {
     "data": {
      "text/plain": [
       "0.0"
      ]
     },
     "execution_count": 34,
     "metadata": {},
     "output_type": "execute_result"
    }
   ],
   "source": [
    "test_array[0]"
   ]
  },
  {
   "cell_type": "code",
   "execution_count": 35,
   "id": "f0f59950",
   "metadata": {},
   "outputs": [],
   "source": [
    "test_array[0]=sepal_length\n",
    "test_array[1]=sepal_width\n",
    "test_array[2]=petal_length\n",
    "test_array[3]=petal_width "
   ]
  },
  {
   "cell_type": "code",
   "execution_count": 36,
   "id": "76e47587",
   "metadata": {},
   "outputs": [
    {
     "data": {
      "text/plain": [
       "array([ 60., 100.,  20., 300.])"
      ]
     },
     "execution_count": 36,
     "metadata": {},
     "output_type": "execute_result"
    }
   ],
   "source": [
    "test_array"
   ]
  },
  {
   "cell_type": "code",
   "execution_count": 37,
   "id": "af071ee8",
   "metadata": {},
   "outputs": [
    {
     "name": "stderr",
     "output_type": "stream",
     "text": [
      "f:\\.anacoda project\\python3.9\\lib\\site-packages\\sklearn\\base.py:450: UserWarning: X does not have valid feature names, but LogisticRegression was fitted with feature names\n",
      "  warnings.warn(\n"
     ]
    },
    {
     "data": {
      "text/plain": [
       "'virginica'"
      ]
     },
     "execution_count": 37,
     "metadata": {},
     "output_type": "execute_result"
    }
   ],
   "source": [
    "lr_model.predict([test_array])[0]"
   ]
  },
  {
   "cell_type": "code",
   "execution_count": null,
   "id": "5143b879",
   "metadata": {},
   "outputs": [],
   "source": []
  }
 ],
 "metadata": {
  "kernelspec": {
   "display_name": "Python 3 (ipykernel)",
   "language": "python",
   "name": "python3"
  },
  "language_info": {
   "codemirror_mode": {
    "name": "ipython",
    "version": 3
   },
   "file_extension": ".py",
   "mimetype": "text/x-python",
   "name": "python",
   "nbconvert_exporter": "python",
   "pygments_lexer": "ipython3",
   "version": "3.9.12"
  },
  "vscode": {
   "interpreter": {
    "hash": "bab70a43b583800f134fa614bd3529961dda83eedce6791bfd8b3b58e6200415"
   }
  }
 },
 "nbformat": 4,
 "nbformat_minor": 5
}
